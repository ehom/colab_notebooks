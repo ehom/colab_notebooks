{
  "nbformat": 4,
  "nbformat_minor": 0,
  "metadata": {
    "colab": {
      "name": "cpp_notebook",
      "provenance": [],
      "authorship_tag": "ABX9TyOpT2OwFGSQQEx9mKQOLBq/",
      "include_colab_link": true
    },
    "kernelspec": {
      "name": "python3",
      "display_name": "Python 3"
    },
    "language_info": {
      "name": "python"
    }
  },
  "cells": [
    {
      "cell_type": "markdown",
      "metadata": {
        "id": "view-in-github",
        "colab_type": "text"
      },
      "source": [
        "<a href=\"https://colab.research.google.com/github/ehom/colab_notebooks/blob/main/cpp_notebook.ipynb\" target=\"_parent\"><img src=\"https://colab.research.google.com/assets/colab-badge.svg\" alt=\"Open In Colab\"/></a>"
      ]
    },
    {
      "cell_type": "code",
      "metadata": {
        "id": "HYq51vGoSd0G"
      },
      "source": [
        "% ls -lR\n"
      ],
      "execution_count": null,
      "outputs": []
    },
    {
      "cell_type": "code",
      "metadata": {
        "colab": {
          "base_uri": "https://localhost:8080/"
        },
        "id": "9f1pQuhkTUIG",
        "outputId": "397e33ed-1666-483d-aa9c-909eab9dcca0"
      },
      "source": [
        "%%writefile main.cpp\n",
        "\n",
        "#include <iostream>\n",
        "\n",
        "int main() {\n",
        "    std::cout << \"hello, world\" << std::endl;\n",
        "\n",
        "    return 0;\n",
        "}"
      ],
      "execution_count": null,
      "outputs": [
        {
          "output_type": "stream",
          "name": "stdout",
          "text": [
            "Writing main.cpp\n"
          ]
        }
      ]
    },
    {
      "cell_type": "code",
      "metadata": {
        "colab": {
          "base_uri": "https://localhost:8080/"
        },
        "id": "ThCm0L4ATlef",
        "outputId": "bba37cfd-c0dc-4ece-d5cd-28e55f5166e7"
      },
      "source": [
        "%%script bash\n",
        "\n",
        "g++ main.cpp -std=c++11\n",
        "\n",
        "./a.out"
      ],
      "execution_count": null,
      "outputs": [
        {
          "output_type": "stream",
          "name": "stdout",
          "text": [
            "hello, world\n"
          ]
        }
      ]
    }
  ]
}