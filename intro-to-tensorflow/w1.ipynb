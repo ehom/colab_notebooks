{
  "nbformat": 4,
  "nbformat_minor": 0,
  "metadata": {
    "colab": {
      "name": "w1.ipynb",
      "provenance": [],
      "collapsed_sections": [],
      "toc_visible": true,
      "authorship_tag": "ABX9TyPddl8pGZIu55Zbtt+nln8K",
      "include_colab_link": true
    },
    "kernelspec": {
      "display_name": "Python 3",
      "name": "python3"
    },
    "language_info": {
      "name": "python"
    },
    "accelerator": "GPU"
  },
  "cells": [
    {
      "cell_type": "markdown",
      "metadata": {
        "id": "view-in-github",
        "colab_type": "text"
      },
      "source": [
        "<a href=\"https://colab.research.google.com/github/ehom/colab_notebooks/blob/main/intro-to-tensorflow/w1.ipynb\" target=\"_parent\"><img src=\"https://colab.research.google.com/assets/colab-badge.svg\" alt=\"Open In Colab\"/></a>"
      ]
    },
    {
      "cell_type": "markdown",
      "metadata": {
        "id": "II0bSoCJdaOa"
      },
      "source": [
        "# Introduction to TensorFlow for Artificial Intelligence, Machine Learning, and Deep Learning"
      ]
    },
    {
      "cell_type": "markdown",
      "metadata": {
        "id": "z59ZEh10rv9C"
      },
      "source": [
        "https://www.coursera.org/learn/introduction-tensorflow"
      ]
    },
    {
      "cell_type": "markdown",
      "metadata": {
        "id": "WIc4UGc8dHRX"
      },
      "source": [
        "## Week 1: A New Programming Paradigm"
      ]
    },
    {
      "cell_type": "markdown",
      "metadata": {
        "id": "U3vFsjpUdxgk"
      },
      "source": [
        "### Practice"
      ]
    },
    {
      "cell_type": "markdown",
      "metadata": {
        "id": "NIM5m3WbXuLu"
      },
      "source": [
        "#### Install"
      ]
    },
    {
      "cell_type": "code",
      "metadata": {
        "id": "JsapfgGQNAyl"
      },
      "source": [
        "#!pip install tensorflow == 2.5.0"
      ],
      "execution_count": null,
      "outputs": []
    },
    {
      "cell_type": "markdown",
      "metadata": {
        "id": "XMdBZ3aSKPOd"
      },
      "source": [
        "#### Imports"
      ]
    },
    {
      "cell_type": "code",
      "metadata": {
        "colab": {
          "base_uri": "https://localhost:8080/"
        },
        "id": "a20_ZNsmKPwT",
        "outputId": "636d4a11-3d33-40da-a306-213624d73458"
      },
      "source": [
        "import tensorflow as tf\n",
        "import tensorflow.keras as keras\n",
        "import numpy as np\n",
        "\n",
        "print(\"Tensor Flow version: {}\".format(tf.__version__))\n"
      ],
      "execution_count": 2,
      "outputs": [
        {
          "output_type": "stream",
          "name": "stdout",
          "text": [
            "Tensor Flow version: 2.7.0\n"
          ]
        }
      ]
    },
    {
      "cell_type": "markdown",
      "metadata": {
        "id": "4AlrRgtQOKYI"
      },
      "source": [
        "#### Define and Compile the Neural Network"
      ]
    },
    {
      "cell_type": "code",
      "metadata": {
        "id": "FlstsL4XOKvf"
      },
      "source": [
        "model = keras.Sequential([\n",
        "  keras.layers.Dense(units=1, input_shape=[1])\n",
        "])\n",
        "\n",
        "model.compile(optimizer='sgd', loss=\"mean_squared_error\")"
      ],
      "execution_count": 3,
      "outputs": []
    },
    {
      "cell_type": "markdown",
      "metadata": {
        "id": "HjX1330xOXPk"
      },
      "source": [
        "#### Provide the Data"
      ]
    },
    {
      "cell_type": "code",
      "metadata": {
        "id": "ld6WYg04LI5I"
      },
      "source": [
        "\n",
        "xs = np.array([1, 2, 3])\n",
        "ys = np.array([50, 100, 150])\n",
        "\n",
        "# print(xs)\n",
        "# print(ys)\n"
      ],
      "execution_count": 4,
      "outputs": []
    },
    {
      "cell_type": "markdown",
      "metadata": {
        "id": "6pk9yj4LOBof"
      },
      "source": [
        "#### Training the Neural Network"
      ]
    },
    {
      "cell_type": "code",
      "metadata": {
        "id": "MQEhqurrOB96"
      },
      "source": [
        "model.fit(xs, ys, epochs=500)\n"
      ],
      "execution_count": null,
      "outputs": []
    },
    {
      "cell_type": "markdown",
      "metadata": {
        "id": "z-TOY9-NuGoE"
      },
      "source": [
        "#### Test\n"
      ]
    },
    {
      "cell_type": "code",
      "metadata": {
        "colab": {
          "base_uri": "https://localhost:8080/"
        },
        "id": "kmR5o9xXNdlP",
        "outputId": "0178968f-752d-46b1-923b-1bb661327a1f"
      },
      "source": [
        "input_values = [4]\n",
        "\n",
        "prediction = model.predict(input_values)[0]\n",
        "\n",
        "prediction[0]"
      ],
      "execution_count": 34,
      "outputs": [
        {
          "output_type": "execute_result",
          "data": {
            "text/plain": [
              "195.71252"
            ]
          },
          "metadata": {},
          "execution_count": 34
        }
      ]
    },
    {
      "cell_type": "markdown",
      "metadata": {
        "id": "TYNrGN4jd_zf"
      },
      "source": [
        "### Assignment 1: Housing Prices\n"
      ]
    },
    {
      "cell_type": "markdown",
      "metadata": {
        "id": "_fQsxg_0QcJ6"
      },
      "source": [
        "In this exercise, you'll try to build a neural network that predicts the price of a house according to a simple formula.\n",
        "\n",
        "So, imagine if house pricing was as easy as a house costs 50k + 50k per bedroom, so that a 1 bedroom house costs 100k, a 2 bedroom house costs 150k etc.\n",
        "\n",
        "How would you create a neural network that learns this relationship so that it would predict a 7 bedroom house as costing close to 400k etc.\n",
        "\n",
        "**Hint**: Your network might work better if you scale the house price down. You don't have to give the answer 400...it might be better to create something that predicts the number 4, and then your answer is in the 'hundreds of thousands' etc."
      ]
    },
    {
      "cell_type": "code",
      "metadata": {
        "id": "AS5mVRvMQkBo"
      },
      "source": [
        "import tensorflow as tf\n",
        "import tensorflow.keras as keras\n",
        "import numpy as np\n",
        "\n",
        "def house_model(X_new):\n",
        "    xs = np.array([1, 2, 3, 4, 5, 6, 7])\n",
        "    ys = np.array([100, 150, 200, 250, 300, 350, 400])\n",
        "\n",
        "    model = keras.Sequential([\n",
        "      keras.layers.Dense(units=1, input_shape=[1])\n",
        "    ])\n",
        "\n",
        "    model.compile(optimizer='sgd', loss=\"mean_squared_error\")\n",
        "\n",
        "    model.fit(xs, ys, epochs=500)\n",
        "\n",
        "    return model.predict(X_new)[0]\n",
        "    \n",
        "prediction = house_model([4])"
      ],
      "execution_count": null,
      "outputs": []
    },
    {
      "cell_type": "code",
      "metadata": {
        "colab": {
          "base_uri": "https://localhost:8080/"
        },
        "id": "xttJKtXyPR3s",
        "outputId": "5c821077-62ac-4cae-88a6-cf7d11c8d54e"
      },
      "source": [
        "print(prediction)"
      ],
      "execution_count": 30,
      "outputs": [
        {
          "output_type": "stream",
          "name": "stdout",
          "text": [
            "[248.92212]\n"
          ]
        }
      ]
    },
    {
      "cell_type": "markdown",
      "metadata": {
        "id": "U9FCGiQVVSmm"
      },
      "source": [
        "Here's a class I wrote so that we can instantiate `Predictor` once and then call its `perform()` method multiple times."
      ]
    },
    {
      "cell_type": "code",
      "metadata": {
        "id": "nHKFVGMWw71C"
      },
      "source": [
        "class Predictor:\n",
        "  def __init__(self, xs, ys):\n",
        "    self.model = Predictor.build_model(xs, ys)\n",
        "\n",
        "  @staticmethod\n",
        "  def build_model(xs, ys):\n",
        "    model = keras.Sequential([\n",
        "      keras.layers.Dense(units=1, input_shape=[1])\n",
        "    ])\n",
        "\n",
        "    model.compile(optimizer='sgd', loss=\"mean_squared_error\")\n",
        "\n",
        "    model.fit(xs, ys, epochs=500)\n",
        "\n",
        "    return model\n",
        "\n",
        "  def perform(self, number_of_bedrooms):\n",
        "    return self.model.predict(number_of_bedrooms).tolist()[0]\n",
        "\n",
        "xs = np.array([1, 2, 3, 4, 5, 6, 7])\n",
        "ys = np.array([100, 150, 200, 250, 300, 350, 400])\n",
        "\n",
        "predictor = Predictor(xs, ys)"
      ],
      "execution_count": null,
      "outputs": []
    },
    {
      "cell_type": "code",
      "metadata": {
        "colab": {
          "base_uri": "https://localhost:8080/"
        },
        "id": "poJk7zalxjS7",
        "outputId": "3f7618bf-2a8d-4d14-ad49-c78a033b7fce"
      },
      "source": [
        "predictor.perform([8])"
      ],
      "execution_count": null,
      "outputs": [
        {
          "output_type": "execute_result",
          "data": {
            "text/plain": [
              "[453.4215393066406]"
            ]
          },
          "metadata": {},
          "execution_count": 5
        }
      ]
    },
    {
      "cell_type": "code",
      "metadata": {
        "colab": {
          "base_uri": "https://localhost:8080/"
        },
        "id": "23HxB5bDgh68",
        "outputId": "a376d0cf-9b63-40a4-bb41-cdc9d806bff8"
      },
      "source": [
        "predictor.perform([9])"
      ],
      "execution_count": null,
      "outputs": [
        {
          "output_type": "execute_result",
          "data": {
            "text/plain": [
              "[504.5440673828125]"
            ]
          },
          "metadata": {},
          "execution_count": 6
        }
      ]
    }
  ]
}