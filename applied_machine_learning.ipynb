{
  "nbformat": 4,
  "nbformat_minor": 0,
  "metadata": {
    "colab": {
      "name": "applied-machine-learning.ipynb",
      "provenance": [],
      "toc_visible": true,
      "authorship_tag": "ABX9TyMf+ggUM7P2d0sXR7Df8625",
      "include_colab_link": true
    },
    "kernelspec": {
      "name": "python3",
      "display_name": "Python 3"
    },
    "language_info": {
      "name": "python"
    }
  },
  "cells": [
    {
      "cell_type": "markdown",
      "metadata": {
        "id": "view-in-github",
        "colab_type": "text"
      },
      "source": [
        "<a href=\"https://colab.research.google.com/github/ehom/colab_notebooks/blob/main/applied_machine_learning.ipynb\" target=\"_parent\"><img src=\"https://colab.research.google.com/assets/colab-badge.svg\" alt=\"Open In Colab\"/></a>"
      ]
    },
    {
      "cell_type": "markdown",
      "metadata": {
        "id": "xixnnzTzSZ8q"
      },
      "source": [
        "# Week 1"
      ]
    },
    {
      "cell_type": "markdown",
      "metadata": {
        "id": "jFCEHW7fSk4z"
      },
      "source": [
        "## Module 1: Fundamentals of Machine Learning - Intro to SciKit"
      ]
    },
    {
      "cell_type": "markdown",
      "metadata": {
        "id": "PI65maCniQY7"
      },
      "source": [
        "A key goal of effective machine learning algorithms is to have good generalization ability. \n",
        "\n",
        "This refers to a learning algorithm’s ability to:\n",
        "\n",
        "⚪ Predict the training data perfectly.\n",
        "\n",
        "🔘 Make accurate predictions for new objects that weren’t seen during training.\n",
        "\n",
        "⚪ Only require labels on some of the training data samples.\n",
        "\n",
        "⚪ Find clusters of similar items."
      ]
    },
    {
      "cell_type": "markdown",
      "metadata": {
        "id": "CoZzc3rbGztk"
      },
      "source": [
        "### k-Nearest Neighbors Classification"
      ]
    },
    {
      "cell_type": "code",
      "metadata": {
        "id": "qGmODjKsSbFw"
      },
      "source": [
        ""
      ],
      "execution_count": null,
      "outputs": []
    },
    {
      "cell_type": "markdown",
      "metadata": {
        "id": "ziEVPGgJFhlU"
      },
      "source": [
        "Here is an acceptable sequence of operations using `scikit-learn` to apply the k-nearest neighbors classification method:\n",
        "\n",
        "1. read_table\n",
        "1. train_test_split\n",
        "1. kNeighborsClassifier\n",
        "1. fit\n",
        "1. score"
      ]
    },
    {
      "cell_type": "markdown",
      "metadata": {
        "id": "JOHVnMb3HkPx"
      },
      "source": [
        "Which of the following is true about the k-nearest neighbors classification algorithm, assuming uniform weighting on the k neighbors? \n",
        "\n",
        "Select all that apply.\n",
        "&nbsp;\n",
        "\n",
        "✔ A low value of “k” (close to 1) is more likely to overfit the training data and lead to worse accuracy on the test data, compared to higher values of “k”.\n",
        "\n",
        "❌ A low value of “k” (close to 1) is less likely to overfit the training data and lead to better accuracy on the test data, compared to higher values of “k”.\n",
        "\n",
        "✔ Setting “k” to the number of points in the training set will result in a classifier that *always* predicts the majority class.\n",
        "\n",
        "❌ Setting “k” to the number of points in the training set will result in a classifier that *never* predicts the majority class.\n",
        "\n",
        "✔ The k-nearest neighbors classification algorithm has to memorize all of the training examples to make a prediction.\n",
        "\n",
        "❌ The performance of a k-nearest neighbors classifier is relatively insensitive to the choice of “k” on most datasets."
      ]
    },
    {
      "cell_type": "markdown",
      "metadata": {
        "id": "_tbWADqeTAhr"
      },
      "source": [
        "# Week 2\n"
      ]
    },
    {
      "cell_type": "markdown",
      "metadata": {
        "id": "iJTz9izVxr5O"
      },
      "source": [
        "## Module 2: Supervised Machine Learning - Part 1"
      ]
    },
    {
      "cell_type": "code",
      "metadata": {
        "id": "zTP67C3STJ69"
      },
      "source": [
        ""
      ],
      "execution_count": null,
      "outputs": []
    },
    {
      "cell_type": "markdown",
      "metadata": {
        "id": "5DB3ZkykaKl4"
      },
      "source": [
        "# Week 3"
      ]
    },
    {
      "cell_type": "markdown",
      "metadata": {
        "id": "osHWT1eDaQrb"
      },
      "source": [
        "## Module 3: Evaluation"
      ]
    },
    {
      "cell_type": "code",
      "metadata": {
        "id": "MkEOwx03ab5j"
      },
      "source": [
        ""
      ],
      "execution_count": null,
      "outputs": []
    },
    {
      "cell_type": "markdown",
      "metadata": {
        "id": "fv1KD_TewJG0"
      },
      "source": [
        "# Week 4"
      ]
    },
    {
      "cell_type": "markdown",
      "metadata": {
        "id": "pVJUni-fxwV2"
      },
      "source": [
        "## Module 4: Supervised Machine Learning - Part 2"
      ]
    },
    {
      "cell_type": "code",
      "metadata": {
        "id": "clDIcdLSw5Pm"
      },
      "source": [
        ""
      ],
      "execution_count": null,
      "outputs": []
    }
  ]
}