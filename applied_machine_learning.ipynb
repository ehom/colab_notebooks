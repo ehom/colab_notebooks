{
  "nbformat": 4,
  "nbformat_minor": 0,
  "metadata": {
    "colab": {
      "name": "applied-machine-learning.ipynb",
      "provenance": [],
      "toc_visible": true,
      "authorship_tag": "ABX9TyNNZIn11lAivuCmO6Er3zyC",
      "include_colab_link": true
    },
    "kernelspec": {
      "name": "python3",
      "display_name": "Python 3"
    },
    "language_info": {
      "name": "python"
    }
  },
  "cells": [
    {
      "cell_type": "markdown",
      "metadata": {
        "id": "view-in-github",
        "colab_type": "text"
      },
      "source": [
        "<a href=\"https://colab.research.google.com/github/ehom/colab_notebooks/blob/main/applied_machine_learning.ipynb\" target=\"_parent\"><img src=\"https://colab.research.google.com/assets/colab-badge.svg\" alt=\"Open In Colab\"/></a>"
      ]
    },
    {
      "cell_type": "markdown",
      "metadata": {
        "id": "xixnnzTzSZ8q"
      },
      "source": [
        "# Week 1"
      ]
    },
    {
      "cell_type": "markdown",
      "metadata": {
        "id": "jFCEHW7fSk4z"
      },
      "source": [
        "## Module 1: Fundamentals of Machine Learning - Intro to SciKit"
      ]
    },
    {
      "cell_type": "code",
      "metadata": {
        "id": "qGmODjKsSbFw"
      },
      "source": [
        ""
      ],
      "execution_count": null,
      "outputs": []
    },
    {
      "cell_type": "markdown",
      "metadata": {
        "id": "_tbWADqeTAhr"
      },
      "source": [
        "# Week 2\n"
      ]
    },
    {
      "cell_type": "markdown",
      "metadata": {
        "id": "iJTz9izVxr5O"
      },
      "source": [
        "## Module 2: Supervised Machine Learning - Part 1"
      ]
    },
    {
      "cell_type": "code",
      "metadata": {
        "id": "zTP67C3STJ69"
      },
      "source": [
        ""
      ],
      "execution_count": null,
      "outputs": []
    },
    {
      "cell_type": "markdown",
      "metadata": {
        "id": "5DB3ZkykaKl4"
      },
      "source": [
        "# Week 3"
      ]
    },
    {
      "cell_type": "markdown",
      "metadata": {
        "id": "osHWT1eDaQrb"
      },
      "source": [
        "## Module 3: Evaluation"
      ]
    },
    {
      "cell_type": "code",
      "metadata": {
        "id": "MkEOwx03ab5j"
      },
      "source": [
        ""
      ],
      "execution_count": null,
      "outputs": []
    },
    {
      "cell_type": "markdown",
      "metadata": {
        "id": "fv1KD_TewJG0"
      },
      "source": [
        "# Week 4"
      ]
    },
    {
      "cell_type": "markdown",
      "metadata": {
        "id": "pVJUni-fxwV2"
      },
      "source": [
        "## Module 4: Supervised Machine Learning - Part 2"
      ]
    },
    {
      "cell_type": "code",
      "metadata": {
        "id": "clDIcdLSw5Pm"
      },
      "source": [
        ""
      ],
      "execution_count": null,
      "outputs": []
    }
  ]
}