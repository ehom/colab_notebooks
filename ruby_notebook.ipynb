{
  "nbformat": 4,
  "nbformat_minor": 0,
  "metadata": {
    "colab": {
      "name": "ruby_notebook.ipynb",
      "private_outputs": true,
      "provenance": [],
      "include_colab_link": true
    },
    "kernelspec": {
      "display_name": "ruby 2.5.1",
      "name": "ruby"
    },
    "language_info": {
      "name": "ruby"
    }
  },
  "cells": [
    {
      "cell_type": "markdown",
      "metadata": {
        "id": "view-in-github",
        "colab_type": "text"
      },
      "source": [
        "<a href=\"https://colab.research.google.com/github/ehom/colab_notebooks/blob/main/ruby_notebook.ipynb\" target=\"_parent\"><img src=\"https://colab.research.google.com/assets/colab-badge.svg\" alt=\"Open In Colab\"/></a>"
      ]
    },
    {
      "cell_type": "markdown",
      "metadata": {
        "id": "91Hfc1t3JM71"
      },
      "source": [
        "### Set up Ruby environment\n"
      ]
    },
    {
      "cell_type": "code",
      "metadata": {
        "id": "aYyL3hSb0IUV"
      },
      "source": [
        "!apt install libtool libffi-dev ruby-full make\n",
        "!apt install libzmq3-dev libczmq-dev\n",
        "!gem install ffi-rzmq\n",
        "!gem install specific_install\n",
        "!gem specific_install https://github.com/SciRuby/iruby\n",
        "!iruby register"
      ],
      "execution_count": null,
      "outputs": []
    },
    {
      "cell_type": "code",
      "metadata": {
        "id": "Xa-k2V1SyHwq"
      },
      "source": [
        "!gem install awesome_print\n",
        "!gem install pry\n",
        "!gem specific_install https://github.com/SciRuby/daru\n",
        "!gem specific_install https://github.com/SciRuby/daru-view\n",
        "!gem install numo-narray\n",
        "!gem install rumale\n",
        "!gem install bio"
      ],
      "execution_count": null,
      "outputs": []
    },
    {
      "cell_type": "code",
      "metadata": {
        "id": "KlDLlSGT3Poy"
      },
      "source": [
        "!gem env\n",
        "!ruby -v"
      ],
      "execution_count": null,
      "outputs": []
    },
    {
      "cell_type": "markdown",
      "metadata": {
        "id": "gQGW09XjKHiN"
      },
      "source": [
        "### Test Ruby Environment"
      ]
    },
    {
      "cell_type": "code",
      "metadata": {
        "id": "NOYzpcyZ0eY-"
      },
      "source": [
        "%%ruby\n",
        "\n",
        "a = ['US', 'CA',  'MX', 'BR']\n",
        "\n",
        "a.each do |code|\n",
        "  puts code\n",
        "end"
      ],
      "execution_count": null,
      "outputs": []
    }
  ]
}