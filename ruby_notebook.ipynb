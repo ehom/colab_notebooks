{
  "nbformat": 4,
  "nbformat_minor": 0,
  "metadata": {
    "colab": {
      "name": "ruby_notebook.ipynb",
      "private_outputs": true,
      "provenance": [],
      "include_colab_link": true
    },
    "kernelspec": {
      "display_name": "ruby 2.7.1",
      "name": "ruby"
    },
    "language_info": {
      "name": "ruby"
    }
  },
  "cells": [
    {
      "cell_type": "markdown",
      "metadata": {
        "id": "view-in-github",
        "colab_type": "text"
      },
      "source": [
        "<a href=\"https://colab.research.google.com/github/ehom/colab_notebooks/blob/main/ruby_notebook.ipynb\" target=\"_parent\"><img src=\"https://colab.research.google.com/assets/colab-badge.svg\" alt=\"Open In Colab\"/></a>"
      ]
    },
    {
      "cell_type": "markdown",
      "metadata": {
        "id": "91Hfc1t3JM71"
      },
      "source": [
        "### Set up Ruby environment\n"
      ]
    },
    {
      "cell_type": "code",
      "metadata": {
        "id": "aYyL3hSb0IUV"
      },
      "source": [
        "!apt install libtool libffi-dev ruby-full make\n",
        "!apt install libzmq3-dev libczmq-dev\n",
        "!gem install ffi-rzmq\n",
        "!gem install specific_install\n",
        "!gem specific_install https://github.com/SciRuby/iruby\n",
        "!iruby register"
      ],
      "execution_count": null,
      "outputs": []
    },
    {
      "cell_type": "code",
      "metadata": {
        "id": "Xa-k2V1SyHwq"
      },
      "source": [
        "!gem install awesome_print\n",
        "!gem install pry\n",
        "!gem specific_install https://github.com/SciRuby/daru\n",
        "!gem specific_install https://github.com/SciRuby/daru-view\n",
        "!gem install numo-narray\n",
        "!gem install rumale\n",
        "!gem install bio\n",
        "!gem install countries"
      ],
      "execution_count": null,
      "outputs": []
    },
    {
      "cell_type": "code",
      "metadata": {
        "id": "KlDLlSGT3Poy"
      },
      "source": [
        "!gem env\n",
        "!ruby -v"
      ],
      "execution_count": null,
      "outputs": []
    },
    {
      "cell_type": "markdown",
      "metadata": {
        "id": "gQGW09XjKHiN"
      },
      "source": [
        "### Test Ruby Environment"
      ]
    },
    {
      "cell_type": "code",
      "metadata": {
        "id": "NOYzpcyZ0eY-"
      },
      "source": [
        "%%ruby\n",
        "\n",
        "require 'countries/global'\n",
        "\n",
        "# us = ISO3166::Country['US']\n",
        "# pp us.address_format\n",
        "\n",
        "ISO3166::Country.all.each do |country|\n",
        "  pp \"#{country.name} (#{country.alpha2}):\"\n",
        "  pp country.address_format unless country.address_format.nil?\n",
        "end"
      ],
      "execution_count": null,
      "outputs": []
    }
  ]
}